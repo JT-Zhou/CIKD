{
 "cells": [
  {
   "cell_type": "markdown",
   "metadata": {},
   "source": [
    "# Correlation matrices visualization of CIFAR-100 models"
   ]
  },
  {
   "cell_type": "code",
   "execution_count": 4,
   "metadata": {},
   "outputs": [
    {
     "ename": "ModuleNotFoundError",
     "evalue": "No module named 'seaborn'",
     "output_type": "error",
     "traceback": [
      "\u001b[0;31m---------------------------------------------------------------------------\u001b[0m",
      "\u001b[0;31mModuleNotFoundError\u001b[0m                       Traceback (most recent call last)",
      "Input \u001b[0;32mIn [4]\u001b[0m, in \u001b[0;36m<cell line: 5>\u001b[0;34m()\u001b[0m\n\u001b[1;32m      3\u001b[0m \u001b[38;5;28;01mfrom\u001b[39;00m \u001b[38;5;21;01mtqdm\u001b[39;00m \u001b[38;5;28;01mimport\u001b[39;00m tqdm\n\u001b[1;32m      4\u001b[0m \u001b[38;5;28;01mimport\u001b[39;00m \u001b[38;5;21;01mmatplotlib\u001b[39;00m\u001b[38;5;21;01m.\u001b[39;00m\u001b[38;5;21;01mpyplot\u001b[39;00m \u001b[38;5;28;01mas\u001b[39;00m \u001b[38;5;21;01mplt\u001b[39;00m\n\u001b[0;32m----> 5\u001b[0m \u001b[38;5;28;01mimport\u001b[39;00m \u001b[38;5;21;01mseaborn\u001b[39;00m\n\u001b[1;32m      7\u001b[0m \u001b[38;5;28;01mfrom\u001b[39;00m \u001b[38;5;21;01mmdistiller\u001b[39;00m\u001b[38;5;21;01m.\u001b[39;00m\u001b[38;5;21;01mmodels\u001b[39;00m \u001b[38;5;28;01mimport\u001b[39;00m cifar_model_dict\n\u001b[1;32m      8\u001b[0m \u001b[38;5;28;01mfrom\u001b[39;00m \u001b[38;5;21;01mmdistiller\u001b[39;00m\u001b[38;5;21;01m.\u001b[39;00m\u001b[38;5;21;01mdataset\u001b[39;00m \u001b[38;5;28;01mimport\u001b[39;00m get_dataset\n",
      "\u001b[0;31mModuleNotFoundError\u001b[0m: No module named 'seaborn'"
     ]
    }
   ],
   "source": [
    "import numpy as np\n",
    "import torch\n",
    "from tqdm import tqdm\n",
    "import matplotlib.pyplot as plt\n",
    "import seaborn\n",
    "\n",
    "from mdistiller.models import cifar_model_dict\n",
    "from mdistiller.dataset import get_dataset\n",
    "from mdistiller.engine.utils import load_checkpoint\n",
    "from mdistiller.engine.cfg import CFG as cfg"
   ]
  },
  {
   "cell_type": "code",
   "execution_count": 6,
   "metadata": {
    "collapsed": true,
    "jupyter": {
     "outputs_hidden": true
    },
    "tags": []
   },
   "outputs": [
    {
     "name": "stdout",
     "output_type": "stream",
     "text": [
      "Looking in indexes: http://mirrors.aliyun.com/pypi/simple\n",
      "Collecting seaborn\n",
      "  Downloading http://mirrors.aliyun.com/pypi/packages/83/11/00d3c3dfc25ad54e731d91449895a79e4bf2384dc3ac01809010ba88f6d5/seaborn-0.13.2-py3-none-any.whl (294 kB)\n",
      "\u001b[K     |████████████████████████████████| 294 kB 893 kB/s eta 0:00:01\n",
      "\u001b[?25hRequirement already satisfied: matplotlib!=3.6.1,>=3.4 in /root/miniconda3/lib/python3.8/site-packages (from seaborn) (3.5.2)\n",
      "Requirement already satisfied: pandas>=1.2 in /root/miniconda3/lib/python3.8/site-packages (from seaborn) (2.0.3)\n",
      "Requirement already satisfied: numpy!=1.24.0,>=1.20 in /root/miniconda3/lib/python3.8/site-packages (from seaborn) (1.22.4)\n",
      "Requirement already satisfied: kiwisolver>=1.0.1 in /root/miniconda3/lib/python3.8/site-packages (from matplotlib!=3.6.1,>=3.4->seaborn) (1.4.3)\n",
      "Requirement already satisfied: pyparsing>=2.2.1 in /root/miniconda3/lib/python3.8/site-packages (from matplotlib!=3.6.1,>=3.4->seaborn) (3.0.9)\n",
      "Requirement already satisfied: pillow>=6.2.0 in /root/miniconda3/lib/python3.8/site-packages (from matplotlib!=3.6.1,>=3.4->seaborn) (9.1.1)\n",
      "Requirement already satisfied: packaging>=20.0 in /root/miniconda3/lib/python3.8/site-packages (from matplotlib!=3.6.1,>=3.4->seaborn) (21.3)\n",
      "Requirement already satisfied: fonttools>=4.22.0 in /root/miniconda3/lib/python3.8/site-packages (from matplotlib!=3.6.1,>=3.4->seaborn) (4.33.3)\n",
      "Requirement already satisfied: python-dateutil>=2.7 in /root/miniconda3/lib/python3.8/site-packages (from matplotlib!=3.6.1,>=3.4->seaborn) (2.8.2)\n",
      "Requirement already satisfied: cycler>=0.10 in /root/miniconda3/lib/python3.8/site-packages (from matplotlib!=3.6.1,>=3.4->seaborn) (0.11.0)\n",
      "Requirement already satisfied: tzdata>=2022.1 in /root/miniconda3/lib/python3.8/site-packages (from pandas>=1.2->seaborn) (2023.3)\n",
      "Requirement already satisfied: pytz>=2020.1 in /root/miniconda3/lib/python3.8/site-packages (from pandas>=1.2->seaborn) (2022.1)\n",
      "Requirement already satisfied: six>=1.5 in /root/miniconda3/lib/python3.8/site-packages (from python-dateutil>=2.7->matplotlib!=3.6.1,>=3.4->seaborn) (1.16.0)\n",
      "Installing collected packages: seaborn\n",
      "Successfully installed seaborn-0.13.2\n",
      "\u001b[33mWARNING: Running pip as the 'root' user can result in broken permissions and conflicting behaviour with the system package manager. It is recommended to use a virtual environment instead: https://pip.pypa.io/warnings/venv\u001b[0m\n"
     ]
    }
   ],
   "source": [
    "!pip install seaborn"
   ]
  },
  {
   "cell_type": "code",
   "execution_count": 1,
   "metadata": {},
   "outputs": [],
   "source": [
    "# visualize the difference between the teacher's output logits and the student's\n",
    "def get_output_metric(model, val_loader, num_classes=100):\n",
    "    model.eval()\n",
    "    all_preds, all_labels = [], []\n",
    "    with torch.no_grad():\n",
    "        for i, (data, labels) in tqdm(enumerate(val_loader)):\n",
    "            outputs, _ = model(data)\n",
    "            preds = outputs\n",
    "            all_preds.append(preds.data.cpu().numpy())\n",
    "            all_labels.append(labels.data.cpu().numpy())\n",
    "    \n",
    "    all_preds = np.concatenate(all_preds, 0)\n",
    "    all_labels = np.concatenate(all_labels, 0)\n",
    "    matrix = np.zeros((num_classes, num_classes))\n",
    "    cnt = np.zeros((num_classes, 1))\n",
    "    for p, l in zip(all_preds, all_labels):\n",
    "        cnt[l, 0] += 1\n",
    "        matrix[l] += p\n",
    "    matrix /= cnt\n",
    "    return matrix\n",
    "\n",
    "def get_tea_stu_diff(tea, stu, mpath, max_diff):\n",
    "    cfg.defrost()\n",
    "    cfg.DISTILLER.STUDENT = stu\n",
    "    cfg.DISTILLER.TEACHER = tea\n",
    "    cfg.DATASET.TYPE = 'cifar100'\n",
    "    cfg.freeze()\n",
    "    train_loader, val_loader, num_data, num_classes = get_dataset(cfg)\n",
    "    model = cifar_model_dict[cfg.DISTILLER.STUDENT][0](num_classes=num_classes)\n",
    "    model.load_state_dict(load_checkpoint(mpath)[\"model\"])\n",
    "    tea_model = cifar_model_dict[cfg.DISTILLER.TEACHER][0](num_classes=num_classes)\n",
    "    tea_model.load_state_dict(load_checkpoint(cifar_model_dict[cfg.DISTILLER.TEACHER][1])[\"model\"])\n",
    "    print(\"load model successfully!\")\n",
    "    ms = get_output_metric(model, val_loader)\n",
    "    mt = get_output_metric(tea_model, val_loader)\n",
    "    diff = np.abs((ms - mt)) / max_diff\n",
    "    for i in range(100):\n",
    "        diff[i, i] = 0\n",
    "    print('max(diff):', diff.max())\n",
    "    print('mean(diff):', diff.mean())\n",
    "    seaborn.heatmap(diff, vmin=0, vmax=1.0, cmap=\"PuBuGn\")\n",
    "    plt.savefig('res.jpg',dpi=1000,bbox_inches='tight')\n",
    "    plt.show()"
   ]
  },
  {
   "cell_type": "code",
   "execution_count": null,
   "metadata": {},
   "outputs": [],
   "source": [
    "# set a common max-value of the difference for fair comparsion between different methods\n",
    "MAX_DIFF = 3.0"
   ]
  },
  {
   "cell_type": "code",
   "execution_count": 5,
   "metadata": {},
   "outputs": [
    {
     "ename": "NameError",
     "evalue": "name 'cfg' is not defined",
     "output_type": "error",
     "traceback": [
      "\u001b[0;31m---------------------------------------------------------------------------\u001b[0m",
      "\u001b[0;31mNameError\u001b[0m                                 Traceback (most recent call last)",
      "Input \u001b[0;32mIn [5]\u001b[0m, in \u001b[0;36m<cell line: 3>\u001b[0;34m()\u001b[0m\n\u001b[1;32m      1\u001b[0m \u001b[38;5;66;03m# KD baseline\u001b[39;00m\n\u001b[1;32m      2\u001b[0m mpath \u001b[38;5;241m=\u001b[39m \u001b[38;5;124m\"\u001b[39m\u001b[38;5;124m../../download_ckpts/kd_resnet8x4\u001b[39m\u001b[38;5;124m\"\u001b[39m\n\u001b[0;32m----> 3\u001b[0m \u001b[43mget_tea_stu_diff\u001b[49m\u001b[43m(\u001b[49m\u001b[38;5;124;43m\"\u001b[39;49m\u001b[38;5;124;43mresnet32x4\u001b[39;49m\u001b[38;5;124;43m\"\u001b[39;49m\u001b[43m,\u001b[49m\u001b[43m \u001b[49m\u001b[38;5;124;43m\"\u001b[39;49m\u001b[38;5;124;43mresnet8x4\u001b[39;49m\u001b[38;5;124;43m\"\u001b[39;49m\u001b[43m,\u001b[49m\u001b[43m \u001b[49m\u001b[43mmpath\u001b[49m\u001b[43m,\u001b[49m\u001b[43m \u001b[49m\u001b[43mMAX_DIFF\u001b[49m\u001b[43m)\u001b[49m\n",
      "Input \u001b[0;32mIn [1]\u001b[0m, in \u001b[0;36mget_tea_stu_diff\u001b[0;34m(tea, stu, mpath, max_diff)\u001b[0m\n\u001b[1;32m     22\u001b[0m \u001b[38;5;28;01mdef\u001b[39;00m \u001b[38;5;21mget_tea_stu_diff\u001b[39m(tea, stu, mpath, max_diff):\n\u001b[0;32m---> 23\u001b[0m     \u001b[43mcfg\u001b[49m\u001b[38;5;241m.\u001b[39mdefrost()\n\u001b[1;32m     24\u001b[0m     cfg\u001b[38;5;241m.\u001b[39mDISTILLER\u001b[38;5;241m.\u001b[39mSTUDENT \u001b[38;5;241m=\u001b[39m stu\n\u001b[1;32m     25\u001b[0m     cfg\u001b[38;5;241m.\u001b[39mDISTILLER\u001b[38;5;241m.\u001b[39mTEACHER \u001b[38;5;241m=\u001b[39m tea\n",
      "\u001b[0;31mNameError\u001b[0m: name 'cfg' is not defined"
     ]
    }
   ],
   "source": [
    "# KD baseline\n",
    "mpath = \"../../download_ckpts/kd_resnet8x4\"\n",
    "get_tea_stu_diff(\"resnet32x4\", \"resnet8x4\", mpath, MAX_DIFF)"
   ]
  },
  {
   "cell_type": "code",
   "execution_count": 2,
   "metadata": {},
   "outputs": [
    {
     "ename": "NameError",
     "evalue": "name 'MAX_DIFF' is not defined",
     "output_type": "error",
     "traceback": [
      "\u001b[0;31m---------------------------------------------------------------------------\u001b[0m",
      "\u001b[0;31mNameError\u001b[0m                                 Traceback (most recent call last)",
      "Input \u001b[0;32mIn [2]\u001b[0m, in \u001b[0;36m<cell line: 3>\u001b[0;34m()\u001b[0m\n\u001b[1;32m      1\u001b[0m \u001b[38;5;66;03m# Our DKD mdistiller/models/cifar/download_ckpts/cifar_teachers/resnet32x4_vanilla/ckpt_epoch_240.pth\u001b[39;00m\n\u001b[1;32m      2\u001b[0m mpath \u001b[38;5;241m=\u001b[39m \u001b[38;5;124m'\u001b[39m\u001b[38;5;124mmdistiller/models/cifar/download_ckpts/cifar_teachers/resnet32x4_vanilla/ckpt_epoch_240.pth\u001b[39m\u001b[38;5;124m'\u001b[39m\u001b[38;5;66;03m#\"../../download_ckpts/dkd_resnet8x4\"\u001b[39;00m\n\u001b[0;32m----> 3\u001b[0m get_tea_stu_diff(\u001b[38;5;124m\"\u001b[39m\u001b[38;5;124mresnet32x4\u001b[39m\u001b[38;5;124m\"\u001b[39m, \u001b[38;5;124m\"\u001b[39m\u001b[38;5;124mresnet8x4\u001b[39m\u001b[38;5;124m\"\u001b[39m, mpath, \u001b[43mMAX_DIFF\u001b[49m)\n",
      "\u001b[0;31mNameError\u001b[0m: name 'MAX_DIFF' is not defined"
     ]
    }
   ],
   "source": [
    "# Our DKD mdistiller/models/cifar/download_ckpts/cifar_teachers/resnet32x4_vanilla/ckpt_epoch_240.pth\n",
    "mpath = 'mdistiller/models/cifar/download_ckpts/cifar_teachers/resnet32x4_vanilla/ckpt_epoch_240.pth'#\"../../download_ckpts/dkd_resnet8x4\"\n",
    "get_tea_stu_diff(\"resnet32x4\", \"resnet8x4\", mpath, MAX_DIFF)"
   ]
  },
  {
   "cell_type": "code",
   "execution_count": null,
   "metadata": {},
   "outputs": [],
   "source": []
  }
 ],
 "metadata": {
  "interpreter": {
   "hash": "31f2aee4e71d21fbe5cf8b01ff0e069b9275f58929596ceb00d14d90e3e16cd6"
  },
  "kernelspec": {
   "display_name": "Python 3 (ipykernel)",
   "language": "python",
   "name": "python3"
  },
  "language_info": {
   "codemirror_mode": {
    "name": "ipython",
    "version": 3
   },
   "file_extension": ".py",
   "mimetype": "text/x-python",
   "name": "python",
   "nbconvert_exporter": "python",
   "pygments_lexer": "ipython3",
   "version": "3.8.10"
  }
 },
 "nbformat": 4,
 "nbformat_minor": 4
}
